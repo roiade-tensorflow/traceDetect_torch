{
 "cells": [
  {
   "cell_type": "code",
   "execution_count": 1,
   "metadata": {},
   "outputs": [],
   "source": [
    "# import xlrd\n",
    "import torch\n",
    "import numpy as np\n",
    "# import math\n",
    "# import cmath\n",
    "# def read_input():\n",
    "#     data=np.zeros(shape=(0,5))\n",
    "#     workbook = xlrd.open_workbook('三角函数表.xlsx')  #(1)取得excel book对象\n",
    "#     s12 = workbook.sheet_by_name(\"Sheet1\")  #(2)取得sheet对象\n",
    "#     rows = s12.nrows #(3)获得总行数\n",
    "#     for r in range(0,rows):\n",
    "#         row = s12.row_values(r) #(4)获取行数据\n",
    "#         data=np.concatenate((data,np.array(row).reshape(1,-1)),0)\n",
    "#     return data\n",
    "# # class vectorOperations():\n",
    "# #     def __init__(self):\n",
    "\n",
    "# #     def car2pol(self,data):\n",
    "# #         pol=torch.tensor(data)\n",
    "        \n",
    "# # if __name__ == '__main__':\n",
    "# dataall=read_input()\n",
    "# print(dataall)\n",
    "\n"
   ]
  },
  {
   "cell_type": "code",
   "execution_count": 2,
   "metadata": {},
   "outputs": [],
   "source": [
    "# data=dataall[:,3:5]\n",
    "# dataPol=dataall[:,[0,2]]\n",
    "# pol=torch.tensor(dataPol)\n",
    "# car=torch.tensor(data)"
   ]
  },
  {
   "cell_type": "code",
   "execution_count": 3,
   "metadata": {},
   "outputs": [],
   "source": [
    "# print(dataPol)\n",
    "# print(data)"
   ]
  },
  {
   "cell_type": "code",
   "execution_count": 75,
   "metadata": {},
   "outputs": [],
   "source": [
    "def car2pol(car):\n",
    "    '''\n",
    "    input: num*2  x,y\n",
    "    output:num*2  r,theta\n",
    "    '''\n",
    "    #实现二维直角坐标转极坐标\n",
    "    car=torch.tensor(car)\n",
    "    if(car.size()[1]==2):\n",
    "        pol=torch.zeros_like(car)\n",
    "        pol[:,0]=torch.norm(car,dim=1)\n",
    "        esp=1e-10\n",
    "        # 对于y=cosx 自变量的取值范围为[-1,1]得到的是[0 ,π]内的角.\n",
    "        value=car[:,0:1]/(pol[:,0:1]+esp)\n",
    "        area1=torch.tensor((data[:,1:2]<0)*1).float()\n",
    "        pol[:,1:2]=torch.acos(value)\n",
    "        pol[:,1:2]=pol[:,1:2]*torch.tensor(-2*area1+1,dtype=pol.dtype)+torch.tensor(2* (np.pi)*area1,dtype=pol.dtype)\n",
    "        return(pol)\n",
    "    if(car.size()[1]==2):\n",
    "        pol=torch.zeros_like(car)\n",
    "        pol[:,0]=torch.norm(car,dim=1)\n",
    "        esp=1e-10\n",
    "\n",
    "        value=torch.div(car[:,0:1],(torch.norm(car[:,0:2],dim=1,keepdim=True)+esp) )\n",
    "\n",
    "        area1=torch.tensor((car[:,1:2]<0)*1).float()\n",
    "        pol[:,1:2]=torch.acos(value)\n",
    "        pol[:,1:2]=pol[:,1:2]*torch.tensor(-2*area1+1,dtype=pol.dtype)+torch.tensor(2* (np.pi)*area1,dtype=pol.dtype)\n",
    "        pol[:,2:3]=torch.acos(car[:,2:3]/(pol[:,0:1]+esp))\n",
    "        return(pol)\n",
    "    "
   ]
  },
  {
   "cell_type": "code",
   "execution_count": 74,
   "metadata": {},
   "outputs": [
    {
     "name": "stdout",
     "output_type": "stream",
     "text": [
      "3\n"
     ]
    }
   ],
   "source": [
    "# polar=torch.tensor([[3,np.pi/3,np.pi/4]])\n",
    "polar=torch.from_numpy(np.random.uniform(low=[0,0,0],high=[10,2*np.pi,np.pi],size=(20,3)))\n",
    "print(polar.size()[1])car)-polar).norm(dim=0).sum())\n",
    "# print(torch.norm((polar-car2pol3(car) ),dim=1     ))"
   ]
  }
 ],
 "metadata": {
  "kernelspec": {
   "display_name": "Python 3",
   "language": "python",
   "name": "python3"
  },
  "language_info": {
   "codemirror_mode": {
    "name": "ipython",
    "version": 3
   },
   "file_extension": ".py",
   "mimetype": "text/x-python",
   "name": "python",
   "nbconvert_exporter": "python",
   "pygments_lexer": "ipython3",
   "version": "3.6.8"
  },
  "toc": {
   "base_numbering": 1,
   "nav_menu": {},
   "number_sections": true,
   "sideBar": true,
   "skip_h1_title": false,
   "title_cell": "Table of Contents",
   "title_sidebar": "Contents",
   "toc_cell": false,
   "toc_position": {},
   "toc_section_display": true,
   "toc_window_display": false
  }
 },
 "nbformat": 4,
 "nbformat_minor": 2
}
